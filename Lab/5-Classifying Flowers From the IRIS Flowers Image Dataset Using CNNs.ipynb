{
  "nbformat": 4,
  "nbformat_minor": 0,
  "metadata": {
    "colab": {
      "provenance": []
    },
    "kernelspec": {
      "name": "python3",
      "display_name": "Python 3"
    },
    "language_info": {
      "name": "python"
    }
  },
  "cells": [
    {
      "cell_type": "code",
      "execution_count": 2,
      "metadata": {
        "id": "bl8BxCPg45pn"
      },
      "outputs": [],
      "source": [
        "import tensorflow as tf\n",
        "import numpy as np\n",
        "import pandas as pd\n",
        "import matplotlib.pyplot as plt\n",
        "from tensorflow.keras.preprocessing.image import ImageDataGenerator\n",
        "imagegen = ImageDataGenerator()"
      ]
    },
    {
      "cell_type": "markdown",
      "source": [
        "##spliting the data into traning and validation data sets"
      ],
      "metadata": {
        "id": "LS28JLTYQ83e"
      }
    },
    {
      "cell_type": "code",
      "source": [
        "from keras.preprocessing.image import ImageDataGenerator\n",
        "\n",
        "# Create an ImageDataGenerator instance for training data\n",
        "train_datagen = ImageDataGenerator(\n",
        "    validation_split=0.2,  # 20% of the data will be used for validation\n",
        "    rescale=1./255,  # Normalize pixel values to [0, 1]\n",
        "    shear_range=0.2,  # Shear intensity\n",
        "    zoom_range=0.2,  # Random zoom\n",
        "    horizontal_flip=True  # Random horizontal flip\n",
        ")\n",
        "\n",
        "# Load images from the directory for training\n",
        "train_generator = train_datagen.flow_from_directory(\n",
        "    \"/content/drive/MyDrive/iris-dataset/IRIS/\",\n",
        "    class_mode=\"categorical\",\n",
        "    shuffle=True,  # Shuffle the data\n",
        "    batch_size=128,\n",
        "    target_size=(224, 224),  # Resize images to 224x224\n",
        "    subset='training'  # Specify that this is for training data\n",
        ")\n",
        "\n",
        "# Load images from the directory for validation\n",
        "validation_generator = train_datagen.flow_from_directory(\n",
        "    \"/content/drive/MyDrive/iris-dataset/IRIS/\",\n",
        "    class_mode=\"categorical\",\n",
        "    shuffle=True,  # Shuffle the data\n",
        "    batch_size=128,\n",
        "    target_size=(224, 224),  # Resize images to 224x224\n",
        "    subset='validation'  # Specify that this is for validation data\n",
        ")\n"
      ],
      "metadata": {
        "colab": {
          "base_uri": "https://localhost:8080/"
        },
        "id": "74FDhGh35IYM",
        "outputId": "3c37541b-531f-47eb-f83f-baef679a7a21"
      },
      "execution_count": 3,
      "outputs": [
        {
          "output_type": "stream",
          "name": "stdout",
          "text": [
            "Found 338 images belonging to 3 classes.\n",
            "Found 83 images belonging to 3 classes.\n"
          ]
        }
      ]
    },
    {
      "cell_type": "markdown",
      "source": [
        "##shape of the each image"
      ],
      "metadata": {
        "id": "86Tfd1kRRcFh"
      }
    },
    {
      "cell_type": "code",
      "source": [
        "images, labels = next(train_generator)\n",
        "print(\"Shape of the first image:\", images[0].shape)"
      ],
      "metadata": {
        "id": "6soLMsQm7LFI",
        "colab": {
          "base_uri": "https://localhost:8080/"
        },
        "outputId": "a6331ab6-2fed-456b-9993-f989df278021"
      },
      "execution_count": 4,
      "outputs": [
        {
          "output_type": "stream",
          "name": "stdout",
          "text": [
            "Shape of the first image: (224, 224, 3)\n"
          ]
        }
      ]
    },
    {
      "cell_type": "markdown",
      "source": [
        "\n",
        "\n",
        "\n",
        "##Convolution neural network (model)\n",
        "\n"
      ],
      "metadata": {
        "id": "wYhsNdzcRibt"
      }
    },
    {
      "cell_type": "code",
      "source": [
        "from keras.models import Sequential\n",
        "from keras.layers import Conv2D, MaxPool2D, Flatten, Dense, InputLayer, BatchNormalization, Dropout\n",
        "\n",
        "# build a sequential model\n",
        "model = Sequential()\n",
        "model.add(InputLayer(input_shape=(224, 224, 3)))\n",
        "\n",
        "# 1st conv block\n",
        "model.add(Conv2D(25, (5, 5), activation='relu', strides=(1, 1), padding='same'))\n",
        "model.add(MaxPool2D(pool_size=(2, 2), padding='same'))\n",
        "# 2nd conv block\n",
        "model.add(Conv2D(50, (5, 5), activation='relu', strides=(2, 2), padding='same'))\n",
        "model.add(MaxPool2D(pool_size=(2, 2), padding='same'))\n",
        "model.add(BatchNormalization())\n",
        "# 3rd conv block\n",
        "model.add(Conv2D(70, (3, 3), activation='relu', strides=(2, 2), padding='same'))\n",
        "model.add(MaxPool2D(pool_size=(2, 2), padding='valid'))\n",
        "model.add(BatchNormalization())\n",
        "# ANN block\n",
        "model.add(Flatten())\n",
        "model.add(Dense(units=100, activation='relu'))\n",
        "model.add(Dense(units=100, activation='relu'))\n",
        "model.add(Dropout(0.25))\n",
        "# output layer\n",
        "model.add(Dense(units=3, activation='softmax'))\n",
        "\n",
        "model.summary()"
      ],
      "metadata": {
        "colab": {
          "base_uri": "https://localhost:8080/"
        },
        "id": "UY1jhckc6rys",
        "outputId": "b3507ecb-f407-497d-9b90-d073fd5ceb11"
      },
      "execution_count": 5,
      "outputs": [
        {
          "output_type": "stream",
          "name": "stdout",
          "text": [
            "Model: \"sequential\"\n",
            "_________________________________________________________________\n",
            " Layer (type)                Output Shape              Param #   \n",
            "=================================================================\n",
            " conv2d (Conv2D)             (None, 224, 224, 25)      1900      \n",
            "                                                                 \n",
            " max_pooling2d (MaxPooling2  (None, 112, 112, 25)      0         \n",
            " D)                                                              \n",
            "                                                                 \n",
            " conv2d_1 (Conv2D)           (None, 56, 56, 50)        31300     \n",
            "                                                                 \n",
            " max_pooling2d_1 (MaxPoolin  (None, 28, 28, 50)        0         \n",
            " g2D)                                                            \n",
            "                                                                 \n",
            " batch_normalization (Batch  (None, 28, 28, 50)        200       \n",
            " Normalization)                                                  \n",
            "                                                                 \n",
            " conv2d_2 (Conv2D)           (None, 14, 14, 70)        31570     \n",
            "                                                                 \n",
            " max_pooling2d_2 (MaxPoolin  (None, 7, 7, 70)          0         \n",
            " g2D)                                                            \n",
            "                                                                 \n",
            " batch_normalization_1 (Bat  (None, 7, 7, 70)          280       \n",
            " chNormalization)                                                \n",
            "                                                                 \n",
            " flatten (Flatten)           (None, 3430)              0         \n",
            "                                                                 \n",
            " dense (Dense)               (None, 100)               343100    \n",
            "                                                                 \n",
            " dense_1 (Dense)             (None, 100)               10100     \n",
            "                                                                 \n",
            " dropout (Dropout)           (None, 100)               0         \n",
            "                                                                 \n",
            " dense_2 (Dense)             (None, 3)                 303       \n",
            "                                                                 \n",
            "=================================================================\n",
            "Total params: 418753 (1.60 MB)\n",
            "Trainable params: 418513 (1.60 MB)\n",
            "Non-trainable params: 240 (960.00 Byte)\n",
            "_________________________________________________________________\n"
          ]
        }
      ]
    },
    {
      "cell_type": "code",
      "source": [
        "model.compile(loss='categorical_crossentropy', optimizer=\"adam\", metrics=['accuracy'])"
      ],
      "metadata": {
        "id": "P_RTp9dG9YcL"
      },
      "execution_count": 6,
      "outputs": []
    },
    {
      "cell_type": "code",
      "source": [
        "history = model.fit(train_generator, epochs=5,validation_data=validation_generator)"
      ],
      "metadata": {
        "colab": {
          "base_uri": "https://localhost:8080/"
        },
        "id": "Fmqg0yck9l9_",
        "outputId": "1c6264a9-9b46-48f6-92db-0f987f2ffb33"
      },
      "execution_count": 7,
      "outputs": [
        {
          "output_type": "stream",
          "name": "stdout",
          "text": [
            "Epoch 1/5\n",
            "3/3 [==============================] - 63s 16s/step - loss: 1.0515 - accuracy: 0.5740 - val_loss: 1.0371 - val_accuracy: 0.6386\n",
            "Epoch 2/5\n",
            "3/3 [==============================] - 35s 12s/step - loss: 0.9003 - accuracy: 0.6006 - val_loss: 1.0533 - val_accuracy: 0.6386\n",
            "Epoch 3/5\n",
            "3/3 [==============================] - 37s 11s/step - loss: 0.8824 - accuracy: 0.6065 - val_loss: 1.0042 - val_accuracy: 0.6386\n",
            "Epoch 4/5\n",
            "3/3 [==============================] - 36s 13s/step - loss: 0.7890 - accuracy: 0.6657 - val_loss: 1.0038 - val_accuracy: 0.6386\n",
            "Epoch 5/5\n",
            "3/3 [==============================] - 36s 10s/step - loss: 0.7132 - accuracy: 0.6923 - val_loss: 1.0224 - val_accuracy: 0.6506\n"
          ]
        }
      ]
    },
    {
      "cell_type": "markdown",
      "source": [
        "##model accuracy and model loss vs epochs"
      ],
      "metadata": {
        "id": "TRRpAeGQR2VS"
      }
    },
    {
      "cell_type": "code",
      "source": [
        "import matplotlib.pyplot as plt\n",
        "\n",
        "# Plot training & validation accuracy values\n",
        "plt.figure(figsize=(14, 3))\n",
        "\n",
        "plt.subplot(1, 2, 1)\n",
        "plt.plot(history.history['accuracy'])\n",
        "plt.plot(history.history['val_accuracy'])\n",
        "plt.title('Model accuracy')\n",
        "plt.ylabel('Accuracy')\n",
        "plt.xlabel('Epoch')\n",
        "plt.legend(['Train', 'Validation'], loc='upper left')\n",
        "\n",
        "# Plot training & validation loss values\n",
        "plt.subplot(1, 2, 2)\n",
        "plt.plot(history.history['loss'])\n",
        "plt.plot(history.history['val_loss'])\n",
        "plt.title('Model loss')\n",
        "plt.ylabel('Loss')\n",
        "plt.xlabel('Epoch')\n",
        "plt.legend(['Train', 'Validation'], loc='upper left')\n",
        "\n",
        "plt.show()\n"
      ],
      "metadata": {
        "colab": {
          "base_uri": "https://localhost:8080/",
          "height": 319
        },
        "id": "1cuxkBUUCjV3",
        "outputId": "7fe76040-969c-4a72-f92b-cb115c7c07f0"
      },
      "execution_count": 8,
      "outputs": [
        {
          "output_type": "display_data",
          "data": {
            "text/plain": [
              "<Figure size 1400x300 with 2 Axes>"
            ],
            "image/png": "[encoded data removed]"
          },
          "metadata": {}
        }
      ]
    },
    {
      "cell_type": "markdown",
      "source": [
        "##Tranfer learning"
      ],
      "metadata": {
        "id": "3sH9ujrvSLYX"
      }
    },
    {
      "cell_type": "code",
      "source": [
        "from keras.applications import VGG16\n",
        "\n",
        "pretrained_model_full = VGG16(include_top=True, weights='imagenet',input_shape=(224,224,3))\n",
        "pretrained_model_full.summary()"
      ],
      "metadata": {
        "colab": {
          "base_uri": "https://localhost:8080/"
        },
        "id": "ajuudVwRDjtN",
        "outputId": "fc4639a4-58ae-4aff-bf15-00b8857ad675"
      },
      "execution_count": 9,
      "outputs": [
        {
          "output_type": "stream",
          "name": "stdout",
          "text": [
            "Downloading data from https://storage.googleapis.com/tensorflow/keras-applications/vgg16/vgg16_weights_tf_dim_ordering_tf_kernels.h5\n",
            "553467096/553467096 [==============================] - 5s 0us/step\n",
            "Model: \"vgg16\"\n",
            "_________________________________________________________________\n",
            " Layer (type)                Output Shape              Param #   \n",
            "=================================================================\n",
            " input_2 (InputLayer)        [(None, 224, 224, 3)]     0         \n",
            "                                                                 \n",
            " block1_conv1 (Conv2D)       (None, 224, 224, 64)      1792      \n",
            "                                                                 \n",
            " block1_conv2 (Conv2D)       (None, 224, 224, 64)      36928     \n",
            "                                                                 \n",
            " block1_pool (MaxPooling2D)  (None, 112, 112, 64)      0         \n",
            "                                                                 \n",
            " block2_conv1 (Conv2D)       (None, 112, 112, 128)     73856     \n",
            "                                                                 \n",
            " block2_conv2 (Conv2D)       (None, 112, 112, 128)     147584    \n",
            "                                                                 \n",
            " block2_pool (MaxPooling2D)  (None, 56, 56, 128)       0         \n",
            "                                                                 \n",
            " block3_conv1 (Conv2D)       (None, 56, 56, 256)       295168    \n",
            "                                                                 \n",
            " block3_conv2 (Conv2D)       (None, 56, 56, 256)       590080    \n",
            "                                                                 \n",
            " block3_conv3 (Conv2D)       (None, 56, 56, 256)       590080    \n",
            "                                                                 \n",
            " block3_pool (MaxPooling2D)  (None, 28, 28, 256)       0         \n",
            "                                                                 \n",
            " block4_conv1 (Conv2D)       (None, 28, 28, 512)       1180160   \n",
            "                                                                 \n",
            " block4_conv2 (Conv2D)       (None, 28, 28, 512)       2359808   \n",
            "                                                                 \n",
            " block4_conv3 (Conv2D)       (None, 28, 28, 512)       2359808   \n",
            "                                                                 \n",
            " block4_pool (MaxPooling2D)  (None, 14, 14, 512)       0         \n",
            "                                                                 \n",
            " block5_conv1 (Conv2D)       (None, 14, 14, 512)       2359808   \n",
            "                                                                 \n",
            " block5_conv2 (Conv2D)       (None, 14, 14, 512)       2359808   \n",
            "                                                                 \n",
            " block5_conv3 (Conv2D)       (None, 14, 14, 512)       2359808   \n",
            "                                                                 \n",
            " block5_pool (MaxPooling2D)  (None, 7, 7, 512)         0         \n",
            "                                                                 \n",
            " flatten (Flatten)           (None, 25088)             0         \n",
            "                                                                 \n",
            " fc1 (Dense)                 (None, 4096)              102764544 \n",
            "                                                                 \n",
            " fc2 (Dense)                 (None, 4096)              16781312  \n",
            "                                                                 \n",
            " predictions (Dense)         (None, 1000)              4097000   \n",
            "                                                                 \n",
            "=================================================================\n",
            "Total params: 138357544 (527.79 MB)\n",
            "Trainable params: 138357544 (527.79 MB)\n",
            "Non-trainable params: 0 (0.00 Byte)\n",
            "_________________________________________________________________\n"
          ]
        }
      ]
    },
    {
      "cell_type": "code",
      "source": [
        "#include top should be False to remove the softmax layer\n",
        "pretrained_model = VGG16(include_top=False, weights='imagenet',input_shape=(224,224,3))\n",
        "pretrained_model.summary()"
      ],
      "metadata": {
        "colab": {
          "base_uri": "https://localhost:8080/"
        },
        "id": "9vkiOG8qHI3I",
        "outputId": "1eb75f4d-484b-409e-9e69-1031758646c2"
      },
      "execution_count": 10,
      "outputs": [
        {
          "output_type": "stream",
          "name": "stdout",
          "text": [
            "Downloading data from https://storage.googleapis.com/tensorflow/keras-applications/vgg16/vgg16_weights_tf_dim_ordering_tf_kernels_notop.h5\n",
            "58889256/58889256 [==============================] - 1s 0us/step\n",
            "Model: \"vgg16\"\n",
            "_________________________________________________________________\n",
            " Layer (type)                Output Shape              Param #   \n",
            "=================================================================\n",
            " input_3 (InputLayer)        [(None, 224, 224, 3)]     0         \n",
            "                                                                 \n",
            " block1_conv1 (Conv2D)       (None, 224, 224, 64)      1792      \n",
            "                                                                 \n",
            " block1_conv2 (Conv2D)       (None, 224, 224, 64)      36928     \n",
            "                                                                 \n",
            " block1_pool (MaxPooling2D)  (None, 112, 112, 64)      0         \n",
            "                                                                 \n",
            " block2_conv1 (Conv2D)       (None, 112, 112, 128)     73856     \n",
            "                                                                 \n",
            " block2_conv2 (Conv2D)       (None, 112, 112, 128)     147584    \n",
            "                                                                 \n",
            " block2_pool (MaxPooling2D)  (None, 56, 56, 128)       0         \n",
            "                                                                 \n",
            " block3_conv1 (Conv2D)       (None, 56, 56, 256)       295168    \n",
            "                                                                 \n",
            " block3_conv2 (Conv2D)       (None, 56, 56, 256)       590080    \n",
            "                                                                 \n",
            " block3_conv3 (Conv2D)       (None, 56, 56, 256)       590080    \n",
            "                                                                 \n",
            " block3_pool (MaxPooling2D)  (None, 28, 28, 256)       0         \n",
            "                                                                 \n",
            " block4_conv1 (Conv2D)       (None, 28, 28, 512)       1180160   \n",
            "                                                                 \n",
            " block4_conv2 (Conv2D)       (None, 28, 28, 512)       2359808   \n",
            "                                                                 \n",
            " block4_conv3 (Conv2D)       (None, 28, 28, 512)       2359808   \n",
            "                                                                 \n",
            " block4_pool (MaxPooling2D)  (None, 14, 14, 512)       0         \n",
            "                                                                 \n",
            " block5_conv1 (Conv2D)       (None, 14, 14, 512)       2359808   \n",
            "                                                                 \n",
            " block5_conv2 (Conv2D)       (None, 14, 14, 512)       2359808   \n",
            "                                                                 \n",
            " block5_conv3 (Conv2D)       (None, 14, 14, 512)       2359808   \n",
            "                                                                 \n",
            " block5_pool (MaxPooling2D)  (None, 7, 7, 512)         0         \n",
            "                                                                 \n",
            "=================================================================\n",
            "Total params: 14714688 (56.13 MB)\n",
            "Trainable params: 14714688 (56.13 MB)\n",
            "Non-trainable params: 0 (0.00 Byte)\n",
            "_________________________________________________________________\n"
          ]
        }
      ]
    },
    {
      "cell_type": "code",
      "source": [
        "from keras.utils import to_categorical\n",
        "# extract train and val features\n",
        "vgg_features_train = pretrained_model.predict(train_generator)\n",
        "vgg_features_val = pretrained_model.predict(validation_generator)"
      ],
      "metadata": {
        "colab": {
          "base_uri": "https://localhost:8080/"
        },
        "id": "UIMUUnv0HLLK",
        "outputId": "4098ca19-7557-4412-fde6-1a8ff38a33a6"
      },
      "execution_count": 11,
      "outputs": [
        {
          "output_type": "stream",
          "name": "stdout",
          "text": [
            "3/3 [==============================] - 228s 66s/step\n",
            "1/1 [==============================] - 54s 54s/step\n"
          ]
        }
      ]
    },
    {
      "cell_type": "code",
      "source": [
        "# OHE target column\n",
        "train_target = to_categorical(train_generator.labels)\n",
        "val_target = to_categorical(validation_generator.labels)\n"
      ],
      "metadata": {
        "id": "Wc_sXnK2HZsx"
      },
      "execution_count": 12,
      "outputs": []
    },
    {
      "cell_type": "code",
      "source": [
        "model2 = Sequential()\n",
        "model2.add(Flatten(input_shape=(7,7,512)))\n",
        "model2.add(Dense(100, activation='relu'))\n",
        "model2.add(Dropout(0.5))\n",
        "model2.add(BatchNormalization())\n",
        "model2.add(Dense(3, activation='softmax'))\n",
        "\n",
        "# compile the model\n",
        "model2.compile(optimizer='adam', metrics=['accuracy'], loss='categorical_crossentropy')\n",
        "\n",
        "model2.summary()"
      ],
      "metadata": {
        "colab": {
          "base_uri": "https://localhost:8080/"
        },
        "id": "qJTBB0z6HpUt",
        "outputId": "03ec2b47-dbb9-48f0-b8a8-ea3c7a1943ea"
      },
      "execution_count": 13,
      "outputs": [
        {
          "output_type": "stream",
          "name": "stdout",
          "text": [
            "Model: \"sequential_1\"\n",
            "_________________________________________________________________\n",
            " Layer (type)                Output Shape              Param #   \n",
            "=================================================================\n",
            " flatten_1 (Flatten)         (None, 25088)             0         \n",
            "                                                                 \n",
            " dense_3 (Dense)             (None, 100)               2508900   \n",
            "                                                                 \n",
            " dropout_1 (Dropout)         (None, 100)               0         \n",
            "                                                                 \n",
            " batch_normalization_2 (Bat  (None, 100)               400       \n",
            " chNormalization)                                                \n",
            "                                                                 \n",
            " dense_4 (Dense)             (None, 3)                 303       \n",
            "                                                                 \n",
            "=================================================================\n",
            "Total params: 2509603 (9.57 MB)\n",
            "Trainable params: 2509403 (9.57 MB)\n",
            "Non-trainable params: 200 (800.00 Byte)\n",
            "_________________________________________________________________\n"
          ]
        }
      ]
    },
    {
      "cell_type": "code",
      "source": [
        "# train model using features generated from VGG16 model\n",
        "history_1 = model2.fit(vgg_features_train, train_target, epochs=25, batch_size=128, validation_data=(vgg_features_val, val_target))"
      ],
      "metadata": {
        "colab": {
          "base_uri": "https://localhost:8080/"
        },
        "id": "KrnvdSvpHwfB",
        "outputId": "2691dff0-20ed-4775-c846-23495a5540c8"
      },
      "execution_count": 14,
      "outputs": [
        {
          "output_type": "stream",
          "name": "stdout",
          "text": [
            "Epoch 1/25\n",
            "3/3 [==============================] - 2s 207ms/step - loss: 1.3048 - accuracy: 0.3432 - val_loss: 2.3422 - val_accuracy: 0.1566\n",
            "Epoch 2/25\n",
            "3/3 [==============================] - 0s 92ms/step - loss: 1.1387 - accuracy: 0.4408 - val_loss: 1.8603 - val_accuracy: 0.1566\n",
            "Epoch 3/25\n",
            "3/3 [==============================] - 0s 92ms/step - loss: 1.0309 - accuracy: 0.4882 - val_loss: 1.3466 - val_accuracy: 0.3494\n",
            "Epoch 4/25\n",
            "3/3 [==============================] - 0s 97ms/step - loss: 0.9018 - accuracy: 0.5769 - val_loss: 1.2122 - val_accuracy: 0.3735\n",
            "Epoch 5/25\n",
            "3/3 [==============================] - 0s 92ms/step - loss: 0.9004 - accuracy: 0.5473 - val_loss: 1.1129 - val_accuracy: 0.4819\n",
            "Epoch 6/25\n",
            "3/3 [==============================] - 0s 102ms/step - loss: 0.7879 - accuracy: 0.6272 - val_loss: 1.1332 - val_accuracy: 0.5181\n",
            "Epoch 7/25\n",
            "3/3 [==============================] - 0s 88ms/step - loss: 0.7079 - accuracy: 0.6982 - val_loss: 1.2315 - val_accuracy: 0.4699\n",
            "Epoch 8/25\n",
            "3/3 [==============================] - 0s 117ms/step - loss: 0.6323 - accuracy: 0.7485 - val_loss: 1.1646 - val_accuracy: 0.4699\n",
            "Epoch 9/25\n",
            "3/3 [==============================] - 0s 87ms/step - loss: 0.6219 - accuracy: 0.7870 - val_loss: 1.0838 - val_accuracy: 0.4458\n",
            "Epoch 10/25\n",
            "3/3 [==============================] - 0s 89ms/step - loss: 0.5540 - accuracy: 0.8136 - val_loss: 1.0614 - val_accuracy: 0.5060\n",
            "Epoch 11/25\n",
            "3/3 [==============================] - 0s 94ms/step - loss: 0.4754 - accuracy: 0.8787 - val_loss: 1.0167 - val_accuracy: 0.6386\n",
            "Epoch 12/25\n",
            "3/3 [==============================] - 0s 123ms/step - loss: 0.4287 - accuracy: 0.9024 - val_loss: 1.0401 - val_accuracy: 0.6386\n",
            "Epoch 13/25\n",
            "3/3 [==============================] - 0s 90ms/step - loss: 0.4379 - accuracy: 0.8935 - val_loss: 1.0286 - val_accuracy: 0.5904\n",
            "Epoch 14/25\n",
            "3/3 [==============================] - 0s 94ms/step - loss: 0.3872 - accuracy: 0.9053 - val_loss: 1.0180 - val_accuracy: 0.5542\n",
            "Epoch 15/25\n",
            "3/3 [==============================] - 0s 95ms/step - loss: 0.3328 - accuracy: 0.9586 - val_loss: 1.0358 - val_accuracy: 0.6145\n",
            "Epoch 16/25\n",
            "3/3 [==============================] - 0s 99ms/step - loss: 0.3416 - accuracy: 0.9320 - val_loss: 1.0412 - val_accuracy: 0.6506\n",
            "Epoch 17/25\n",
            "3/3 [==============================] - 0s 101ms/step - loss: 0.3111 - accuracy: 0.9615 - val_loss: 1.0667 - val_accuracy: 0.6386\n",
            "Epoch 18/25\n",
            "3/3 [==============================] - 0s 93ms/step - loss: 0.2891 - accuracy: 0.9675 - val_loss: 1.0843 - val_accuracy: 0.6024\n",
            "Epoch 19/25\n",
            "3/3 [==============================] - 0s 93ms/step - loss: 0.2570 - accuracy: 0.9763 - val_loss: 1.0997 - val_accuracy: 0.5904\n",
            "Epoch 20/25\n",
            "3/3 [==============================] - 0s 85ms/step - loss: 0.2358 - accuracy: 0.9734 - val_loss: 1.1141 - val_accuracy: 0.6145\n",
            "Epoch 21/25\n",
            "3/3 [==============================] - 0s 118ms/step - loss: 0.2073 - accuracy: 0.9793 - val_loss: 1.1056 - val_accuracy: 0.6265\n",
            "Epoch 22/25\n",
            "3/3 [==============================] - 0s 144ms/step - loss: 0.1971 - accuracy: 0.9852 - val_loss: 1.1488 - val_accuracy: 0.6024\n",
            "Epoch 23/25\n",
            "3/3 [==============================] - 0s 145ms/step - loss: 0.1702 - accuracy: 0.9882 - val_loss: 1.2267 - val_accuracy: 0.6024\n",
            "Epoch 24/25\n",
            "3/3 [==============================] - 0s 147ms/step - loss: 0.1470 - accuracy: 1.0000 - val_loss: 1.2452 - val_accuracy: 0.6145\n",
            "Epoch 25/25\n",
            "3/3 [==============================] - 0s 136ms/step - loss: 0.1408 - accuracy: 0.9970 - val_loss: 1.1920 - val_accuracy: 0.6145\n"
          ]
        }
      ]
    },
    {
      "cell_type": "code",
      "source": [
        "import matplotlib.pyplot as plt\n",
        "\n",
        "# Plot training & validation accuracy values\n",
        "plt.figure(figsize=(14, 3))\n",
        "\n",
        "plt.subplot(1, 2, 1)\n",
        "plt.plot(history_1.history['accuracy'])\n",
        "plt.plot(history_1.history['val_accuracy'])\n",
        "plt.title('Model accuracy')\n",
        "plt.ylabel('Accuracy')\n",
        "plt.xlabel('Epoch')\n",
        "plt.legend(['Train', 'Validation'], loc='upper left')\n",
        "\n",
        "# Plot training & validation loss values\n",
        "plt.subplot(1, 2, 2)\n",
        "plt.plot(history_1.history['loss'])\n",
        "plt.plot(history_1.history['val_loss'])\n",
        "plt.title('Model loss')\n",
        "plt.ylabel('Loss')\n",
        "plt.xlabel('Epoch')\n",
        "plt.legend(['Train', 'Validation'], loc='upper left')\n",
        "\n",
        "plt.show()"
      ],
      "metadata": {
        "colab": {
          "base_uri": "https://localhost:8080/",
          "height": 320
        },
        "id": "k5ELol08H0mD",
        "outputId": "5ff0cf0e-a97a-4a98-e4f2-22e0ac036f27"
      },
      "execution_count": 15,
      "outputs": [
        {
          "output_type": "display_data",
          "data": {
            "text/plain": [
              "<Figure size 1400x300 with 2 Axes>"
            ],
            "image/png": "[encoded data removed]"
          },
          "metadata": {}
        }
      ]
    }
  ]
}